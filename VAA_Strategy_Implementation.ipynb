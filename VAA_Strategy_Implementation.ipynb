{
  "nbformat": 4,
  "nbformat_minor": 0,
  "metadata": {
    "colab": {
      "name": "VAA Strategy Implementation.ipynb",
      "provenance": [],
      "private_outputs": true,
      "authorship_tag": "ABX9TyOxx4wvqUOwhidLmLuWZCxJ",
      "include_colab_link": true
    },
    "kernelspec": {
      "name": "python3",
      "display_name": "Python 3"
    }
  },
  "cells": [
    {
      "cell_type": "markdown",
      "metadata": {
        "id": "view-in-github",
        "colab_type": "text"
      },
      "source": [
        "<a href=\"https://colab.research.google.com/github/optimalMachine/python-quant-strategies/blob/master/VAA_Strategy_Implementation.ipynb\" target=\"_parent\"><img src=\"https://colab.research.google.com/assets/colab-badge.svg\" alt=\"Open In Colab\"/></a>"
      ]
    },
    {
      "cell_type": "markdown",
      "metadata": {
        "id": "mcNZzdXE2Yik",
        "colab_type": "text"
      },
      "source": [
        "# VAA (Vigilant AA - Aggressive)\n",
        "\n",
        "Written by Jiuk Choi\n",
        "\n",
        "This strategy is originally created by Wouter J. Keller.\n",
        "\n",
        "In this paper, the author states that CAGR is about 17.7% with less than 15% of MDD (Max Drawdown) over the last 50 years.\n",
        "\n",
        "'VAA (Vigilant Asset Allocation) is a dual-momentum based investment strategy with a vigorous crash protection and a fast momentum filter. Dual momentum combines absolute (trendfollowing) and relative (strength) momentum. Compared to the traditional dual momentum approaches, we have replaced the usual crash protection through trendfollowing on the asset level by our breadth momentum on the universe level instead. As a result, the VAA strategy is on average often more than 50% out of the market. We show, however, that the resulting momentum strategy is by no means sluggish. By using large and small universes with US and global ETF-like monthly data starting 1925 and 1969 respectively, we arrive out-of-sample at annual returns above 10% with max drawdowns below 15% for each of these four universes.'\n",
        "\n",
        "Based on the information, The specific implementation is explained.\n",
        "\n",
        "\n",
        "Source link:\n",
        "[Breadth Momentum and Vigilant Asset Allocation (VAA): Winning More by Losing Less](https://papers.ssrn.com/sol3/papers.cfm?abstract_id=3002624#:~:text=VAA%20(Vigilant%20Asset%20Allocation)%20is,and%20relative%20(strength)%20momentum.)\n",
        "\n"
      ]
    },
    {
      "cell_type": "code",
      "metadata": {
        "id": "xFNjnOqiPBbx",
        "colab_type": "code",
        "colab": {}
      },
      "source": [
        "#This is for retrieving stock market data, and it is free to use.\n",
        "# Install the alpha_vantage if it is not installed\n",
        "!pip install alpha_vantage"
      ],
      "execution_count": null,
      "outputs": []
    },
    {
      "cell_type": "code",
      "metadata": {
        "id": "kK7IuqsoPTlf",
        "colab_type": "code",
        "colab": {}
      },
      "source": [
        "# Import TimeSeries class\n",
        "from alpha_vantage.timeseries import TimeSeries\n",
        "ALPHA_VANTAGE_API_KEY = 'Q3V3LEGAIXM9RAEW'\n",
        "# This is to prompt you to change the ALPHA_VANTAGE Key\n",
        "if ALPHA_VANTAGE_API_KEY == 'Q3V3LEGAIXM9RAEWY':\n",
        " raise Exception(\"Please provide a valid Alpha Vantage API key!\")\n",
        "\n",
        "# Initialize the TimeSeries class with key and output format\n",
        "ts = TimeSeries(key=ALPHA_VANTAGE_API_KEY, output_format='pandas')\n",
        "# Get pandas dataframe with the intraday data and information of the data\n",
        "intraday_data, data_info = ts.get_intraday(\n",
        " 'GOOGL', outputsize='full', interval='1min')\n",
        "# Print the information of the data\n",
        "data_info"
      ],
      "execution_count": null,
      "outputs": []
    },
    {
      "cell_type": "code",
      "metadata": {
        "id": "I4QuimZfYS2q",
        "colab_type": "code",
        "colab": {}
      },
      "source": [
        "# Get pandas dataframe with the indata and information of the data\n",
        "daily_data, data_info = ts.get_daily_adjusted(\n",
        " 'GOOGL', outputsize=200)\n",
        "# Print the information of the data\n",
        "data_info"
      ],
      "execution_count": null,
      "outputs": []
    },
    {
      "cell_type": "code",
      "metadata": {
        "id": "N4nfzeN7YUse",
        "colab_type": "code",
        "colab": {}
      },
      "source": [
        "daily_data"
      ],
      "execution_count": null,
      "outputs": []
    },
    {
      "cell_type": "code",
      "metadata": {
        "id": "oTahQGzpagzE",
        "colab_type": "code",
        "colab": {}
      },
      "source": [
        "daily_data['5. adjusted close'][1]"
      ],
      "execution_count": null,
      "outputs": []
    },
    {
      "cell_type": "code",
      "metadata": {
        "id": "a3ufl2e2azwM",
        "colab_type": "code",
        "colab": {}
      },
      "source": [
        ""
      ],
      "execution_count": null,
      "outputs": []
    }
  ]
}