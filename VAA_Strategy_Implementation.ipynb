{
  "nbformat": 4,
  "nbformat_minor": 0,
  "metadata": {
    "colab": {
      "name": "VAA Strategy Implementation.ipynb",
      "provenance": [],
      "private_outputs": true,
      "authorship_tag": "ABX9TyPfeR8Jq8Bn36E0BG8adRYT",
      "include_colab_link": true
    },
    "kernelspec": {
      "name": "python3",
      "display_name": "Python 3"
    }
  },
  "cells": [
    {
      "cell_type": "markdown",
      "metadata": {
        "id": "view-in-github",
        "colab_type": "text"
      },
      "source": [
        "<a href=\"https://colab.research.google.com/github/optimalMachine/python-quant-strategies/blob/master/VAA_Strategy_Implementation.ipynb\" target=\"_parent\"><img src=\"https://colab.research.google.com/assets/colab-badge.svg\" alt=\"Open In Colab\"/></a>"
      ]
    },
    {
      "cell_type": "markdown",
      "metadata": {
        "id": "mcNZzdXE2Yik",
        "colab_type": "text"
      },
      "source": [
        "# VAA (Vigilant AA - Aggressive)\n",
        "\n",
        "This strategy is originally created by Wouter J. Keller.\n",
        "\n",
        "In this paper, the author states that CAGR is about 17.7% with less than 15% of MDD (Max Drawdown) over the last 50 years.\n",
        "\n",
        "'VAA (Vigilant Asset Allocation) is a dual-momentum based investment strategy with a vigorous crash protection and a fast momentum filter. Dual momentum combines absolute (trendfollowing) and relative (strength) momentum. Compared to the traditional dual momentum approaches, we have replaced the usual crash protection through trendfollowing on the asset level by our breadth momentum on the universe level instead. As a result, the VAA strategy is on average often more than 50% out of the market. We show, however, that the resulting momentum strategy is by no means sluggish. By using large and small universes with US and global ETF-like monthly data starting 1925 and 1969 respectively, we arrive out-of-sample at annual returns above 10% with max drawdowns below 15% for each of these four universes.'\n",
        "\n",
        "Based on the information, The specific implementation is explained.\n",
        "\n",
        "\n",
        "Source link:\n",
        "[Breadth Momentum and Vigilant Asset Allocation (VAA): Winning More by Losing Less](https://papers.ssrn.com/sol3/papers.cfm?abstract_id=3002624#:~:text=VAA%20(Vigilant%20Asset%20Allocation)%20is,and%20relative%20(strength)%20momentum.)\n",
        "\n"
      ]
    }
  ]
}